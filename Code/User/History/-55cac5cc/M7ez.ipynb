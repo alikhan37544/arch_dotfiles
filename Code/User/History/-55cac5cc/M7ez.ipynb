{
 "cells": [
  {
   "cell_type": "code",
   "execution_count": 4,
   "metadata": {},
   "outputs": [
    {
     "name": "stdout",
     "output_type": "stream",
     "text": [
      "--2024-11-16 23:13:29--  https://www.robots.ox.ac.uk/~vgg/data/pets/data/images.tar.gz\n",
      "Loaded CA certificate '/etc/ssl/certs/ca-certificates.crt'\n",
      "Resolving www.robots.ox.ac.uk (www.robots.ox.ac.uk)... 129.67.94.2\n",
      "Connecting to www.robots.ox.ac.uk (www.robots.ox.ac.uk)|129.67.94.2|:443... connected.\n",
      "HTTP request sent, awaiting response... 301 Moved Permanently\n",
      "Location: https://thor.robots.ox.ac.uk/pets/images.tar.gz [following]\n",
      "--2024-11-16 23:13:45--  https://thor.robots.ox.ac.uk/pets/images.tar.gz\n",
      "Resolving thor.robots.ox.ac.uk (thor.robots.ox.ac.uk)... 129.67.95.98\n",
      "Connecting to thor.robots.ox.ac.uk (thor.robots.ox.ac.uk)|129.67.95.98|:443... connected.\n",
      "HTTP request sent, awaiting response... 200 OK\n",
      "Length: 791918971 (755M) [application/octet-stream]\n",
      "Saving to: ‘images.tar.gz’\n",
      "\n",
      "images.tar.gz       100%[===================>] 755.23M  8.40MB/s    in 94s     \n",
      "\n",
      "2024-11-16 23:15:25 (8.04 MB/s) - ‘images.tar.gz’ saved [791918971/791918971]\n",
      "\n",
      "--2024-11-16 23:15:26--  https://www.robots.ox.ac.uk/~vgg/data/pets/data/annotations.tar.gz\n",
      "Loaded CA certificate '/etc/ssl/certs/ca-certificates.crt'\n",
      "Resolving www.robots.ox.ac.uk (www.robots.ox.ac.uk)... 129.67.94.2\n",
      "Connecting to www.robots.ox.ac.uk (www.robots.ox.ac.uk)|129.67.94.2|:443... connected.\n",
      "HTTP request sent, awaiting response... 301 Moved Permanently\n",
      "Location: https://thor.robots.ox.ac.uk/pets/annotations.tar.gz [following]\n",
      "--2024-11-16 23:15:42--  https://thor.robots.ox.ac.uk/pets/annotations.tar.gz\n",
      "Resolving thor.robots.ox.ac.uk (thor.robots.ox.ac.uk)... 129.67.95.98\n",
      "Connecting to thor.robots.ox.ac.uk (thor.robots.ox.ac.uk)|129.67.95.98|:443... connected.\n",
      "HTTP request sent, awaiting response... 200 OK\n",
      "Length: 19173078 (18M) [application/octet-stream]\n",
      "Saving to: ‘annotations.tar.gz’\n",
      "\n",
      "annotations.tar.gz  100%[===================>]  18.28M  4.71MB/s    in 5.0s    \n",
      "\n",
      "2024-11-16 23:15:53 (3.63 MB/s) - ‘annotations.tar.gz’ saved [19173078/19173078]\n",
      "\n"
     ]
    }
   ],
   "source": [
    "# Clean previous downloads\n",
    "!rm images.tar.gz annotations.tar.gz\n",
    "\n",
    "# Download using wget\n",
    "!wget https://www.robots.ox.ac.uk/~vgg/data/pets/data/images.tar.gz\n",
    "!wget https://www.robots.ox.ac.uk/~vgg/data/pets/data/annotations.tar.gz\n",
    "\n",
    "# Extract the files\n",
    "!tar -xf images.tar.gz\n",
    "!tar -xf annotations.tar.gz\n"
   ]
  },
  {
   "cell_type": "code",
   "execution_count": 5,
   "metadata": {},
   "outputs": [
    {
     "name": "stdout",
     "output_type": "stream",
     "text": [
      "Number of samples: 7390\n",
      "images/Abyssinian_1.jpg | annotations/trimaps/Abyssinian_1.png\n",
      "images/Abyssinian_10.jpg | annotations/trimaps/Abyssinian_10.png\n",
      "images/Abyssinian_100.jpg | annotations/trimaps/Abyssinian_100.png\n",
      "images/Abyssinian_101.jpg | annotations/trimaps/Abyssinian_101.png\n",
      "images/Abyssinian_102.jpg | annotations/trimaps/Abyssinian_102.png\n",
      "images/Abyssinian_103.jpg | annotations/trimaps/Abyssinian_103.png\n",
      "images/Abyssinian_104.jpg | annotations/trimaps/Abyssinian_104.png\n",
      "images/Abyssinian_105.jpg | annotations/trimaps/Abyssinian_105.png\n",
      "images/Abyssinian_106.jpg | annotations/trimaps/Abyssinian_106.png\n",
      "images/Abyssinian_107.jpg | annotations/trimaps/Abyssinian_107.png\n"
     ]
    }
   ],
   "source": [
    "import os\n",
    "\n",
    "input_dir = \"images/\"\n",
    "target_dir = \"annotations/trimaps/\"\n",
    "img_size = (160, 160)\n",
    "num_classes = 3\n",
    "batch_size = 32\n",
    "\n",
    "input_img_paths = sorted(\n",
    "    [\n",
    "        os.path.join(input_dir, fname)\n",
    "        for fname in os.listdir(input_dir)\n",
    "        if fname.endswith(\".jpg\")\n",
    "    ]\n",
    ")\n",
    "target_img_paths = sorted(\n",
    "    [\n",
    "        os.path.join(target_dir, fname)\n",
    "        for fname in os.listdir(target_dir)\n",
    "        if fname.endswith(\".png\") and not fname.startswith(\".\")\n",
    "    ]\n",
    ")\n",
    "\n",
    "print(\"Number of samples:\", len(input_img_paths))\n",
    "\n",
    "for input_path, target_path in zip(input_img_paths[:10], target_img_paths[:10]):\n",
    "    print(input_path, \"|\", target_path)\n"
   ]
  },
  {
   "cell_type": "code",
   "execution_count": 1,
   "metadata": {},
   "outputs": [
    {
     "name": "stderr",
     "output_type": "stream",
     "text": [
      "2024-11-19 20:26:34.931003: E external/local_xla/xla/stream_executor/cuda/cuda_fft.cc:477] Unable to register cuFFT factory: Attempting to register factory for plugin cuFFT when one has already been registered\n",
      "WARNING: All log messages before absl::InitializeLog() is called are written to STDERR\n",
      "E0000 00:00:1732028195.165823  566337 cuda_dnn.cc:8310] Unable to register cuDNN factory: Attempting to register factory for plugin cuDNN when one has already been registered\n",
      "E0000 00:00:1732028195.235970  566337 cuda_blas.cc:1418] Unable to register cuBLAS factory: Attempting to register factory for plugin cuBLAS when one has already been registered\n",
      "2024-11-19 20:26:35.797025: I tensorflow/core/platform/cpu_feature_guard.cc:210] This TensorFlow binary is optimized to use available CPU instructions in performance-critical operations.\n",
      "To enable the following instructions: AVX2 FMA, in other operations, rebuild TensorFlow with the appropriate compiler flags.\n"
     ]
    },
    {
     "ename": "NameError",
     "evalue": "name 'input_img_paths' is not defined",
     "output_type": "error",
     "traceback": [
      "\u001b[0;31m---------------------------------------------------------------------------\u001b[0m",
      "\u001b[0;31mNameError\u001b[0m                                 Traceback (most recent call last)",
      "Cell \u001b[0;32mIn[1], line 6\u001b[0m\n\u001b[1;32m      3\u001b[0m \u001b[38;5;28;01mfrom\u001b[39;00m \u001b[38;5;21;01mPIL\u001b[39;00m \u001b[38;5;28;01mimport\u001b[39;00m ImageOps\n\u001b[1;32m      5\u001b[0m \u001b[38;5;66;03m# Display input image #7\u001b[39;00m\n\u001b[0;32m----> 6\u001b[0m display(Image(filename\u001b[38;5;241m=\u001b[39m\u001b[43minput_img_paths\u001b[49m[\u001b[38;5;241m9\u001b[39m]))\n\u001b[1;32m      8\u001b[0m \u001b[38;5;66;03m# Display auto-contrast version of corresponding target (per-pixel categories)\u001b[39;00m\n\u001b[1;32m      9\u001b[0m img \u001b[38;5;241m=\u001b[39m ImageOps\u001b[38;5;241m.\u001b[39mautocontrast(load_img(target_img_paths[\u001b[38;5;241m9\u001b[39m]))\n",
      "\u001b[0;31mNameError\u001b[0m: name 'input_img_paths' is not defined"
     ]
    }
   ],
   "source": [
    "from IPython.display import Image, display\n",
    "from keras.utils import load_img\n",
    "from PIL import ImageOps\n",
    "\n",
    "# Display input image #7\n",
    "display(Image(filename=input_img_paths[9]))\n",
    "\n",
    "# Display auto-contrast version of corresponding target (per-pixel categories)\n",
    "img = ImageOps.autocontrast(load_img(target_img_paths[9]))\n",
    "display(img)\n"
   ]
  },
  {
   "cell_type": "code",
   "execution_count": null,
   "metadata": {},
   "outputs": [],
   "source": []
  }
 ],
 "metadata": {
  "kernelspec": {
   "display_name": "env_hack",
   "language": "python",
   "name": "python3"
  },
  "language_info": {
   "codemirror_mode": {
    "name": "ipython",
    "version": 3
   },
   "file_extension": ".py",
   "mimetype": "text/x-python",
   "name": "python",
   "nbconvert_exporter": "python",
   "pygments_lexer": "ipython3",
   "version": "3.10.14"
  }
 },
 "nbformat": 4,
 "nbformat_minor": 2
}
