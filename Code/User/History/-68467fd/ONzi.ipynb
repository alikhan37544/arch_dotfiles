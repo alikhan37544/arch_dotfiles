{
 "cells": [
  {
   "cell_type": "markdown",
   "metadata": {},
   "source": [
    "# Image Classification From Scratch"
   ]
  },
  {
   "cell_type": "markdown",
   "metadata": {},
   "source": [
    "This notebook is a follow along of the [Image Classification From Scratch](https://keras.io/examples/vision/image_classification_from_scratch/) tutorial from the Keras documentation. The tutorial demonstrates how to train a simple convnet on the Fashion MNIST dataset. The goal is to familiarize myself with the Keras API and the basics of image classification."
   ]
  },
  {
   "cell_type": "code",
   "execution_count": 1,
   "metadata": {},
   "outputs": [],
   "source": [
    "import os\n",
    "import numpy as np\n",
    "import keras\n",
    "from keras import layers\n",
    "from tensorflow import data as tf_data\n",
    "import matplotlib.pyplot as plt"
   ]
  },
  {
   "cell_type": "code",
   "execution_count": null,
   "metadata": {},
   "outputs": [],
   "source": [
    "!curl -O https://download.microsoft.com/download/3/E/1/3E1C3F21-ECDB-4869-8368-6DEBA77B919F/kagglecatsanddogs_5340.zip"
   ]
  },
  {
   "cell_type": "code",
   "execution_count": null,
   "metadata": {},
   "outputs": [],
   "source": [
    "!unzip -q kagglecatsanddogs_5340.zip\n"
   ]
  },
  {
   "cell_type": "code",
   "execution_count": 2,
   "metadata": {},
   "outputs": [
    {
     "name": "stdout",
     "output_type": "stream",
     "text": [
      " CDLA-Permissive-2.0.pdf\t\t   PetImages\n",
      " Image_Classification_From_Scratch.ipynb  'readme[1].txt'\n",
      " kagglecatsanddogs_5340.zip\n"
     ]
    }
   ],
   "source": [
    "!ls"
   ]
  },
  {
   "cell_type": "code",
   "execution_count": 3,
   "metadata": {},
   "outputs": [
    {
     "name": "stdout",
     "output_type": "stream",
     "text": [
      "Cat  Dog\n"
     ]
    }
   ],
   "source": [
    "!ls PetImages"
   ]
  },
  {
   "cell_type": "markdown",
   "metadata": {},
   "source": [
    "## Filter out the corrput images"
   ]
  },
  {
   "cell_type": "code",
   "execution_count": 4,
   "metadata": {},
   "outputs": [
    {
     "name": "stdout",
     "output_type": "stream",
     "text": [
      "Deleted 0 images.\n"
     ]
    }
   ],
   "source": [
    "num_skipped = 0\n",
    "for folder_name in (\"Cat\", \"Dog\"):\n",
    "    folder_path = os.path.join(\"PetImages\", folder_name)\n",
    "    for fname in os.listdir(folder_path):\n",
    "        fpath = os.path.join(folder_path, fname)\n",
    "        try:\n",
    "            fobj = open(fpath, \"rb\")\n",
    "            is_jfif = b\"JFIF\" in fobj.peek(10)\n",
    "        finally:\n",
    "            fobj.close()\n",
    "\n",
    "        if not is_jfif:\n",
    "            num_skipped += 1\n",
    "            # Delete corrupted image\n",
    "            os.remove(fpath)\n",
    "\n",
    "print(f\"Deleted {num_skipped} images.\")\n"
   ]
  },
  {
   "cell_type": "markdown",
   "metadata": {},
   "source": [
    "## Generate a dataset : "
   ]
  },
  {
   "cell_type": "code",
   "execution_count": 5,
   "metadata": {},
   "outputs": [
    {
     "name": "stdout",
     "output_type": "stream",
     "text": [
      "Found 23410 files belonging to 2 classes.\n",
      "Using 18728 files for training.\n",
      "Using 4682 files for validation.\n"
     ]
    },
    {
     "name": "stderr",
     "output_type": "stream",
     "text": [
      "2024-11-11 21:43:42.143463: E external/local_xla/xla/stream_executor/cuda/cuda_driver.cc:152] failed call to cuInit: INTERNAL: CUDA error: Failed call to cuInit: UNKNOWN ERROR (303)\n"
     ]
    }
   ],
   "source": [
    "image_size = (180, 180)\n",
    "batch_size = 128\n",
    "\n",
    "train_ds, val_ds = keras.utils.image_dataset_from_directory(\n",
    "    \"PetImages\",\n",
    "    validation_split=0.2,\n",
    "    subset=\"both\",\n",
    "    seed=1337,\n",
    "    image_size=image_size,\n",
    "    batch_size=batch_size,\n",
    ")\n"
   ]
  },
  {
   "cell_type": "markdown",
   "metadata": {},
   "source": [
    "# Visualize the data"
   ]
  },
  {
   "cell_type": "markdown",
   "metadata": {},
   "source": [
    "let's try and use plt.imshow to look at some of our images in the training dataset"
   ]
  },
  {
   "cell_type": "code",
   "execution_count": 8,
   "metadata": {},
   "outputs": [
    {
     "ename": "ValueError",
     "evalue": "Single argument to subplot must be a three-digit integer, not array([[[182, 114,  32],\n        [173, 105,  42],\n        [152,  88,  45],\n        ...,\n        [195, 126,  64],\n        [198, 134,  67],\n        [194, 131,  61]],\n\n       [[184, 120,  40],\n        [172, 109,  47],\n        [153,  91,  47],\n        ...,\n        [196, 127,  65],\n        [204, 139,  75],\n        [198, 135,  69]],\n\n       [[162, 104,  27],\n        [160, 103,  40],\n        [155,  97,  49],\n        ...,\n        [205, 136,  73],\n        [204, 140,  76],\n        [196, 132,  71]],\n\n       ...,\n\n       [[178, 157, 114],\n        [186, 164, 126],\n        [172, 149, 115],\n        ...,\n        [184, 158, 131],\n        [201, 173, 144],\n        [188, 158, 128]],\n\n       [[180, 159, 116],\n        [187, 165, 127],\n        [183, 160, 126],\n        ...,\n        [198, 172, 145],\n        [199, 170, 141],\n        [200, 169, 140]],\n\n       [[181, 160, 117],\n        [178, 156, 118],\n        [170, 147, 113],\n        ...,\n        [190, 163, 136],\n        [196, 166, 138],\n        [191, 160, 131]]], dtype=uint8)",
     "output_type": "error",
     "traceback": [
      "\u001b[0;31m---------------------------------------------------------------------------\u001b[0m",
      "\u001b[0;31mValueError\u001b[0m                                Traceback (most recent call last)",
      "Cell \u001b[0;32mIn[8], line 5\u001b[0m\n\u001b[1;32m      3\u001b[0m \u001b[38;5;28;01mfor\u001b[39;00m i \u001b[38;5;129;01min\u001b[39;00m \u001b[38;5;28mrange\u001b[39m(\u001b[38;5;241m9\u001b[39m):\n\u001b[1;32m      4\u001b[0m     ax \u001b[38;5;241m=\u001b[39m plt\u001b[38;5;241m.\u001b[39msubplot(\u001b[38;5;241m3\u001b[39m,\u001b[38;5;241m3\u001b[39m, i\u001b[38;5;241m+\u001b[39m\u001b[38;5;241m1\u001b[39m)\n\u001b[0;32m----> 5\u001b[0m     ax \u001b[38;5;241m=\u001b[39m \u001b[43mplt\u001b[49m\u001b[38;5;241;43m.\u001b[39;49m\u001b[43msubplot\u001b[49m\u001b[43m(\u001b[49m\u001b[43mnp\u001b[49m\u001b[38;5;241;43m.\u001b[39;49m\u001b[43marray\u001b[49m\u001b[43m(\u001b[49m\u001b[43mimages\u001b[49m\u001b[43m[\u001b[49m\u001b[43mi\u001b[49m\u001b[43m]\u001b[49m\u001b[43m)\u001b[49m\u001b[38;5;241;43m.\u001b[39;49m\u001b[43mastype\u001b[49m\u001b[43m(\u001b[49m\u001b[38;5;124;43m\"\u001b[39;49m\u001b[38;5;124;43muint8\u001b[39;49m\u001b[38;5;124;43m\"\u001b[39;49m\u001b[43m)\u001b[49m\u001b[43m)\u001b[49m\n\u001b[1;32m      6\u001b[0m     plt\u001b[38;5;241m.\u001b[39mtitle(\u001b[38;5;28mint\u001b[39m(labels[i]))\n\u001b[1;32m      7\u001b[0m     plt\u001b[38;5;241m.\u001b[39maxis(\u001b[38;5;124m\"\u001b[39m\u001b[38;5;124moff\u001b[39m\u001b[38;5;124m\"\u001b[39m)\n",
      "File \u001b[0;32m~/programming/env_hack/lib/python3.10/site-packages/matplotlib/pyplot.py:1534\u001b[0m, in \u001b[0;36msubplot\u001b[0;34m(*args, **kwargs)\u001b[0m\n\u001b[1;32m   1531\u001b[0m fig \u001b[38;5;241m=\u001b[39m gcf()\n\u001b[1;32m   1533\u001b[0m \u001b[38;5;66;03m# First, search for an existing subplot with a matching spec.\u001b[39;00m\n\u001b[0;32m-> 1534\u001b[0m key \u001b[38;5;241m=\u001b[39m \u001b[43mSubplotSpec\u001b[49m\u001b[38;5;241;43m.\u001b[39;49m\u001b[43m_from_subplot_args\u001b[49m\u001b[43m(\u001b[49m\u001b[43mfig\u001b[49m\u001b[43m,\u001b[49m\u001b[43m \u001b[49m\u001b[43margs\u001b[49m\u001b[43m)\u001b[49m\n\u001b[1;32m   1536\u001b[0m \u001b[38;5;28;01mfor\u001b[39;00m ax \u001b[38;5;129;01min\u001b[39;00m fig\u001b[38;5;241m.\u001b[39maxes:\n\u001b[1;32m   1537\u001b[0m     \u001b[38;5;66;03m# If we found an Axes at the position, we can reuse it if the user passed no\u001b[39;00m\n\u001b[1;32m   1538\u001b[0m     \u001b[38;5;66;03m# kwargs or if the Axes class and kwargs are identical.\u001b[39;00m\n\u001b[1;32m   1539\u001b[0m     \u001b[38;5;28;01mif\u001b[39;00m (ax\u001b[38;5;241m.\u001b[39mget_subplotspec() \u001b[38;5;241m==\u001b[39m key\n\u001b[1;32m   1540\u001b[0m         \u001b[38;5;129;01mand\u001b[39;00m (kwargs \u001b[38;5;241m==\u001b[39m {}\n\u001b[1;32m   1541\u001b[0m              \u001b[38;5;129;01mor\u001b[39;00m (ax\u001b[38;5;241m.\u001b[39m_projection_init\n\u001b[1;32m   1542\u001b[0m                  \u001b[38;5;241m==\u001b[39m fig\u001b[38;5;241m.\u001b[39m_process_projection_requirements(\u001b[38;5;241m*\u001b[39m\u001b[38;5;241m*\u001b[39mkwargs)))):\n",
      "File \u001b[0;32m~/programming/env_hack/lib/python3.10/site-packages/matplotlib/gridspec.py:564\u001b[0m, in \u001b[0;36mSubplotSpec._from_subplot_args\u001b[0;34m(figure, args)\u001b[0m\n\u001b[1;32m    562\u001b[0m     \u001b[38;5;28;01mreturn\u001b[39;00m arg\n\u001b[1;32m    563\u001b[0m \u001b[38;5;28;01melif\u001b[39;00m \u001b[38;5;129;01mnot\u001b[39;00m \u001b[38;5;28misinstance\u001b[39m(arg, Integral):\n\u001b[0;32m--> 564\u001b[0m     \u001b[38;5;28;01mraise\u001b[39;00m \u001b[38;5;167;01mValueError\u001b[39;00m(\n\u001b[1;32m    565\u001b[0m         \u001b[38;5;124mf\u001b[39m\u001b[38;5;124m\"\u001b[39m\u001b[38;5;124mSingle argument to subplot must be a three-digit \u001b[39m\u001b[38;5;124m\"\u001b[39m\n\u001b[1;32m    566\u001b[0m         \u001b[38;5;124mf\u001b[39m\u001b[38;5;124m\"\u001b[39m\u001b[38;5;124minteger, not \u001b[39m\u001b[38;5;132;01m{\u001b[39;00marg\u001b[38;5;132;01m!r}\u001b[39;00m\u001b[38;5;124m\"\u001b[39m)\n\u001b[1;32m    567\u001b[0m \u001b[38;5;28;01mtry\u001b[39;00m:\n\u001b[1;32m    568\u001b[0m     rows, cols, num \u001b[38;5;241m=\u001b[39m \u001b[38;5;28mmap\u001b[39m(\u001b[38;5;28mint\u001b[39m, \u001b[38;5;28mstr\u001b[39m(arg))\n",
      "\u001b[0;31mValueError\u001b[0m: Single argument to subplot must be a three-digit integer, not array([[[182, 114,  32],\n        [173, 105,  42],\n        [152,  88,  45],\n        ...,\n        [195, 126,  64],\n        [198, 134,  67],\n        [194, 131,  61]],\n\n       [[184, 120,  40],\n        [172, 109,  47],\n        [153,  91,  47],\n        ...,\n        [196, 127,  65],\n        [204, 139,  75],\n        [198, 135,  69]],\n\n       [[162, 104,  27],\n        [160, 103,  40],\n        [155,  97,  49],\n        ...,\n        [205, 136,  73],\n        [204, 140,  76],\n        [196, 132,  71]],\n\n       ...,\n\n       [[178, 157, 114],\n        [186, 164, 126],\n        [172, 149, 115],\n        ...,\n        [184, 158, 131],\n        [201, 173, 144],\n        [188, 158, 128]],\n\n       [[180, 159, 116],\n        [187, 165, 127],\n        [183, 160, 126],\n        ...,\n        [198, 172, 145],\n        [199, 170, 141],\n        [200, 169, 140]],\n\n       [[181, 160, 117],\n        [178, 156, 118],\n        [170, 147, 113],\n        ...,\n        [190, 163, 136],\n        [196, 166, 138],\n        [191, 160, 131]]], dtype=uint8)"
     ]
    },
    {
     "data": {
      "image/png": "[encoded data removed]",
      "text/plain": [
       "<Figure size 1000x1000 with 1 Axes>"
      ]
     },
     "metadata": {},
     "output_type": "display_data"
    }
   ],
   "source": [
    "plt.figure(figsize=(10,10))\n",
    "for images, labels in train_ds.take(1):\n",
    "    for i in range(9):\n",
    "        ax = plt.subplot(3,3, i+1)\n",
    "        ax = plt.subplot(np.array(images[i]).astype(\"uint8\"))\n",
    "        plt.title(int(labels[i]))\n",
    "        plt.axis(\"off\")"
   ]
  },
  {
   "cell_type": "code",
   "execution_count": null,
   "metadata": {},
   "outputs": [],
   "source": []
  }
 ],
 "metadata": {
  "kernelspec": {
   "display_name": "env_hack",
   "language": "python",
   "name": "python3"
  },
  "language_info": {
   "codemirror_mode": {
    "name": "ipython",
    "version": 3
   },
   "file_extension": ".py",
   "mimetype": "text/x-python",
   "name": "python",
   "nbconvert_exporter": "python",
   "pygments_lexer": "ipython3",
   "version": "3.10.14"
  }
 },
 "nbformat": 4,
 "nbformat_minor": 2
}
