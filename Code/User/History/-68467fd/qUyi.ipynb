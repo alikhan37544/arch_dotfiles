{
 "cells": [],
 "metadata": {
  "kernelspec": {
   "display_name": "env_hack",
   "language": "python",
   "name": "python3"
  },
  "language_info": {
   "name": "python",
   "version": "3.10.14"
  }
 },
 "nbformat": 4,
 "nbformat_minor": 2
}
